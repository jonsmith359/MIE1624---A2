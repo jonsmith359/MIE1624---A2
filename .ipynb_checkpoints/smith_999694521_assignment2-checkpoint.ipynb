{
 "cells": [
  {
   "cell_type": "code",
   "execution_count": 1,
   "metadata": {
    "collapsed": true
   },
   "outputs": [],
   "source": [
    "# Import libraries\n",
    "import pandas as pd\n",
    "import numpy as np\n",
    "from collections import defaultdict\n",
    "from sklearn.preprocessing import LabelEncoder"
   ]
  },
  {
   "cell_type": "code",
   "execution_count": 2,
   "metadata": {
    "collapsed": false
   },
   "outputs": [
    {
     "name": "stdout",
     "output_type": "stream",
     "text": [
      "/Users/Jonathan/Documents/GitHub/MIE1624---A2\n",
      "Assignment 2 v2.pdf               income-training.csv\n",
      "Assignment 2.pdf                  sample-bonus.csv\n",
      "income-testing.csv                smith_999694521_assignment2.ipynb\n"
     ]
    }
   ],
   "source": [
    "# Display current working directory\n",
    "!pwd\n",
    "!ls"
   ]
  },
  {
   "cell_type": "code",
   "execution_count": 3,
   "metadata": {
    "collapsed": true
   },
   "outputs": [],
   "source": [
    "# List path to data files\n",
    "train_path = 'income-training.csv'\n",
    "test_path = 'income-testing.csv'"
   ]
  },
  {
   "cell_type": "code",
   "execution_count": 4,
   "metadata": {
    "collapsed": true
   },
   "outputs": [],
   "source": [
    "# Read input files\n",
    "train_df_raw = pd.read_csv(train_path)\n",
    "test_df_raw = pd.read_csv(test_path)"
   ]
  },
  {
   "cell_type": "code",
   "execution_count": 5,
   "metadata": {
    "collapsed": false
   },
   "outputs": [
    {
     "name": "stdout",
     "output_type": "stream",
     "text": [
      "24421\n"
     ]
    },
    {
     "data": {
      "text/html": [
       "<div>\n",
       "<table border=\"1\" class=\"dataframe\">\n",
       "  <thead>\n",
       "    <tr style=\"text-align: right;\">\n",
       "      <th></th>\n",
       "      <th>Age</th>\n",
       "      <th>FinalWeight</th>\n",
       "      <th>EducationLvl</th>\n",
       "      <th>CapitalGain</th>\n",
       "      <th>CapitalLoss</th>\n",
       "      <th>HoursPerWeek</th>\n",
       "    </tr>\n",
       "  </thead>\n",
       "  <tbody>\n",
       "    <tr>\n",
       "      <th>count</th>\n",
       "      <td>24421.000000</td>\n",
       "      <td>2.442100e+04</td>\n",
       "      <td>24421.000000</td>\n",
       "      <td>24421.000000</td>\n",
       "      <td>24421.00000</td>\n",
       "      <td>24421.000000</td>\n",
       "    </tr>\n",
       "    <tr>\n",
       "      <th>mean</th>\n",
       "      <td>38.635273</td>\n",
       "      <td>1.908781e+05</td>\n",
       "      <td>10.100078</td>\n",
       "      <td>1073.734900</td>\n",
       "      <td>90.72581</td>\n",
       "      <td>40.495352</td>\n",
       "    </tr>\n",
       "    <tr>\n",
       "      <th>std</th>\n",
       "      <td>13.658678</td>\n",
       "      <td>1.066108e+05</td>\n",
       "      <td>2.579953</td>\n",
       "      <td>7372.250508</td>\n",
       "      <td>410.42682</td>\n",
       "      <td>12.363606</td>\n",
       "    </tr>\n",
       "    <tr>\n",
       "      <th>min</th>\n",
       "      <td>17.000000</td>\n",
       "      <td>1.349200e+04</td>\n",
       "      <td>1.000000</td>\n",
       "      <td>0.000000</td>\n",
       "      <td>0.00000</td>\n",
       "      <td>1.000000</td>\n",
       "    </tr>\n",
       "    <tr>\n",
       "      <th>25%</th>\n",
       "      <td>28.000000</td>\n",
       "      <td>1.182590e+05</td>\n",
       "      <td>9.000000</td>\n",
       "      <td>0.000000</td>\n",
       "      <td>0.00000</td>\n",
       "      <td>40.000000</td>\n",
       "    </tr>\n",
       "    <tr>\n",
       "      <th>50%</th>\n",
       "      <td>37.000000</td>\n",
       "      <td>1.783830e+05</td>\n",
       "      <td>10.000000</td>\n",
       "      <td>0.000000</td>\n",
       "      <td>0.00000</td>\n",
       "      <td>40.000000</td>\n",
       "    </tr>\n",
       "    <tr>\n",
       "      <th>75%</th>\n",
       "      <td>48.000000</td>\n",
       "      <td>2.394090e+05</td>\n",
       "      <td>13.000000</td>\n",
       "      <td>0.000000</td>\n",
       "      <td>0.00000</td>\n",
       "      <td>45.000000</td>\n",
       "    </tr>\n",
       "    <tr>\n",
       "      <th>max</th>\n",
       "      <td>90.000000</td>\n",
       "      <td>1.490400e+06</td>\n",
       "      <td>16.000000</td>\n",
       "      <td>99999.000000</td>\n",
       "      <td>4356.00000</td>\n",
       "      <td>99.000000</td>\n",
       "    </tr>\n",
       "  </tbody>\n",
       "</table>\n",
       "</div>"
      ],
      "text/plain": [
       "                Age   FinalWeight  EducationLvl   CapitalGain  CapitalLoss  \\\n",
       "count  24421.000000  2.442100e+04  24421.000000  24421.000000  24421.00000   \n",
       "mean      38.635273  1.908781e+05     10.100078   1073.734900     90.72581   \n",
       "std       13.658678  1.066108e+05      2.579953   7372.250508    410.42682   \n",
       "min       17.000000  1.349200e+04      1.000000      0.000000      0.00000   \n",
       "25%       28.000000  1.182590e+05      9.000000      0.000000      0.00000   \n",
       "50%       37.000000  1.783830e+05     10.000000      0.000000      0.00000   \n",
       "75%       48.000000  2.394090e+05     13.000000      0.000000      0.00000   \n",
       "max       90.000000  1.490400e+06     16.000000  99999.000000   4356.00000   \n",
       "\n",
       "       HoursPerWeek  \n",
       "count  24421.000000  \n",
       "mean      40.495352  \n",
       "std       12.363606  \n",
       "min        1.000000  \n",
       "25%       40.000000  \n",
       "50%       40.000000  \n",
       "75%       45.000000  \n",
       "max       99.000000  "
      ]
     },
     "execution_count": 5,
     "metadata": {},
     "output_type": "execute_result"
    }
   ],
   "source": [
    "# Print shape and description of training dataframe\n",
    "print(train_df_raw.shape[0])\n",
    "train_df_raw.describe()"
   ]
  },
  {
   "cell_type": "code",
   "execution_count": 6,
   "metadata": {
    "collapsed": false
   },
   "outputs": [
    {
     "name": "stdout",
     "output_type": "stream",
     "text": [
      "Columns with NaN Value:  1767  Out of  24421 , or  7.235575938741247 %\n"
     ]
    }
   ],
   "source": [
    "# Find number of rows with NaN values\n",
    "x = train_df_raw.shape[0]-train_df_raw.dropna().shape[0]\n",
    "print('Columns with NaN Value: ',x, ' Out of ',train_df_raw.shape[0], ', or ',100*x/train_df_raw.shape[0],'%')"
   ]
  },
  {
   "cell_type": "markdown",
   "metadata": {},
   "source": [
    "# Data Cleaning"
   ]
  },
  {
   "cell_type": "code",
   "execution_count": 7,
   "metadata": {
    "collapsed": false
   },
   "outputs": [
    {
     "data": {
      "text/plain": [
       "Index(['Age', 'WorkClass', 'FinalWeight', 'Education', 'EducationLvl',\n",
       "       'MaritalStatus', 'Occupation', 'Relationship', 'Race', 'Sex',\n",
       "       'CapitalGain', 'CapitalLoss', 'HoursPerWeek', 'NativeCountry',\n",
       "       'IncomeBracket'],\n",
       "      dtype='object')"
      ]
     },
     "execution_count": 7,
     "metadata": {},
     "output_type": "execute_result"
    }
   ],
   "source": [
    "# Display column titles\n",
    "train_df_raw.columns"
   ]
  },
  {
   "cell_type": "code",
   "execution_count": 8,
   "metadata": {
    "collapsed": false
   },
   "outputs": [
    {
     "name": "stdout",
     "output_type": "stream",
     "text": [
      "\n",
      "Potential feature  1  out of  15\n",
      "NaN Count in  Age :  0\n",
      "Unique Entries of  Age :  73 \n",
      "\n",
      "[42 28 24 32 55 35 51 43 29 65 20 45 52 25 40 30 44 39 19 41 33 18 22 54 21\n",
      " 31 49 36 37 17 57 67 46 34 59 53 66 74 47 27 58 48 63 61 23 26 56 50 38 71\n",
      " 64 79 76 62 72 90 60 69 70 77 78 85 68 75 81 80 73 88 87 82 83 89 84]\n",
      "\n",
      "Potential feature  2  out of  15\n",
      "NaN Count in  WorkClass :  1384\n",
      "Unique Entries of  WorkClass :  9 \n",
      "\n",
      "['State-gov' 'Private' 'Self-emp-not-inc' 'Self-emp-inc' nan 'Federal-gov'\n",
      " 'Local-gov' 'Never-worked' 'Without-pay']\n",
      "\n",
      "Potential feature  3  out of  15\n",
      "NaN Count in  FinalWeight :  0\n",
      "Unique Entries of  FinalWeight :  17614 \n",
      "\n",
      "[179151  68021 233499 ..., 190661 113751 294642]\n",
      "\n",
      "Potential feature  4  out of  15\n",
      "NaN Count in  Education :  0\n",
      "Unique Entries of  Education :  16 \n",
      "\n",
      "['Some-college' '9th' 'Masters' 'HS-grad' 'Bachelors' 'Assoc-voc'\n",
      " 'Assoc-acdm' '11th' '10th' 'Prof-school' 'Doctorate' '1st-4th' '5th-6th'\n",
      " '12th' '7th-8th' 'Preschool']\n",
      "\n",
      "Potential feature  5  out of  15\n",
      "NaN Count in  EducationLvl :  0\n",
      "Unique Entries of  EducationLvl :  16 \n",
      "\n",
      "[10  5 14  9 13 11 12  7  6 15 16  2  3  8  4  1]\n",
      "\n",
      "Potential feature  6  out of  15\n",
      "NaN Count in  MaritalStatus :  0\n",
      "Unique Entries of  MaritalStatus :  7 \n",
      "\n",
      "['Married-civ-spouse' 'Never-married' 'Divorced' 'Widowed' 'Separated'\n",
      " 'Married-spouse-absent' 'Married-AF-spouse']\n",
      "\n",
      "Potential feature  7  out of  15\n",
      "NaN Count in  Occupation :  1390\n",
      "Unique Entries of  Occupation :  15 \n",
      "\n",
      "['Farming-fishing' 'Other-service' 'Transport-moving' 'Craft-repair'\n",
      " 'Sales' 'Adm-clerical' 'Exec-managerial' 'Tech-support' nan\n",
      " 'Machine-op-inspct' 'Handlers-cleaners' 'Protective-serv' 'Prof-specialty'\n",
      " 'Priv-house-serv' 'Armed-Forces']\n",
      "\n",
      "Potential feature  8  out of  15\n",
      "NaN Count in  Relationship :  0\n",
      "Unique Entries of  Relationship :  6 \n",
      "\n",
      "['Husband' 'Not-in-family' 'Unmarried' 'Own-child' 'Wife' 'Other-relative']\n",
      "\n",
      "Potential feature  9  out of  15\n",
      "NaN Count in  Race :  0\n",
      "Unique Entries of  Race :  5 \n",
      "\n",
      "['White' 'Black' 'Asian-Pac-Islander' 'Other' 'Amer-Indian-Eskimo']\n",
      "\n",
      "Potential feature  10  out of  15\n",
      "NaN Count in  Sex :  0\n",
      "Unique Entries of  Sex :  2 \n",
      "\n",
      "['Male' 'Female']\n",
      "\n",
      "Potential feature  11  out of  15\n",
      "NaN Count in  CapitalGain :  0\n",
      "Unique Entries of  CapitalGain :  114 \n",
      "\n",
      "[    0  2228  4787  3908  3137 15024  6849 13550  4650  3103 20051  7688\n",
      "  5013  3325  4386  4064  7298  1055  2176  2009  2174  2885  3411 99999\n",
      "  2907  4508  2202  5178 14344  2597  6514  2414 10605  8614  2829   594\n",
      "  2050 27828  5455  4934  5721  6418  9386 14084  5556   914 25236  7443\n",
      "  2463  4416  2290  3464  2354  3781  3942 41310  2580  1471  7430  2062\n",
      " 10520  2407 15831  4865  3674  6723  2329  1831  1455  2964  2653   991\n",
      "  5060  2105 15020  2635  1506  1409  1086 11678  4101  3418  6497  3471\n",
      "  1173  1797  2538  3456  2977  3818  7896  1848  2961  2993  6767  2036\n",
      "  1264  3273  3432  2346  3887  6360   114  1424   401  2936  4931  1151\n",
      " 34095 10566 25124  2387  9562  4687]\n",
      "\n",
      "Potential feature  12  out of  15\n",
      "NaN Count in  CapitalLoss :  0\n",
      "Unique Entries of  CapitalLoss :  91 \n",
      "\n",
      "[   0 1741 1590 1977 2179 2002 1902 1848 1825 1876 1504 1485 1594 1974 1726\n",
      " 1628 1887 2001 1411 4356 1719 2415 2057 1721 1980 1672 1579 1092 1408 2339\n",
      " 1602 1651 2258 2205 2444 1740 1617 2559 2174 1564 2129  323 1429  419 1669\n",
      "  213 2465 2051 1510 2824 1816 2231 2246  625 1539 2547 2206 2377 2267  810\n",
      " 1648 2392 1762 2042 2472 1380 2201 2603 1668 1573 2149  653 2282 1340 1138\n",
      "  155 2457 2238 3175  974 1870 1844  880 2080 3770 1735 1944 2754 1258 3004\n",
      " 2467]\n",
      "\n",
      "Potential feature  13  out of  15\n",
      "NaN Count in  HoursPerWeek :  0\n",
      "Unique Entries of  HoursPerWeek :  95 \n",
      "\n",
      "[40 30 32 50 60 55 64 20 45 16 38 65 24 35 48 43 25 84 44 70 80 21 99 10 37\n",
      " 15 46 75 68 52 56 53 42  1 23 28 12 22 36 49 85 57 62 67 54 18 33  4  8  5\n",
      " 51  3  2 41 63 14 39  7 94 26  6 72 19 27 17 90 78 86 34 13 11 66 91 58 47\n",
      " 76 98 61  9 29 95 77 31 96 79 59 69 97 74 92 73 87 89 88 81]\n",
      "\n",
      "Potential feature  14  out of  15\n",
      "NaN Count in  NativeCountry :  395\n",
      "Unique Entries of  NativeCountry :  42 \n",
      "\n",
      "['United-States' 'Outlying-US(Guam-USVI-etc)' 'Mexico' 'El-Salvador' nan\n",
      " 'Taiwan' 'Haiti' 'Cuba' 'Philippines' 'Puerto-Rico' 'Japan' 'Thailand'\n",
      " 'Hungary' 'France' 'Columbia' 'India' 'Jamaica' 'Germany' 'Peru' 'Canada'\n",
      " 'Hong' 'Italy' 'Honduras' 'Poland' 'Ecuador' 'Ireland' 'Cambodia'\n",
      " 'Guatemala' 'Dominican-Republic' 'Greece' 'Nicaragua' 'Iran' 'Vietnam'\n",
      " 'Trinadad&Tobago' 'China' 'South' 'England' 'Yugoslavia' 'Portugal' 'Laos'\n",
      " 'Scotland' 'Holand-Netherlands']\n",
      "\n",
      "Potential feature  15  out of  15\n",
      "NaN Count in  IncomeBracket :  0\n",
      "Unique Entries of  IncomeBracket :  3 \n",
      "\n",
      "['<50K' '50-100K' '>100K']\n"
     ]
    }
   ],
   "source": [
    "# Display info about entries of each column\n",
    "for i,col in enumerate(train_df_raw.columns):\n",
    "    print('\\nPotential feature ',i+1,' out of ',len(train_df_raw.columns))\n",
    "    print('NaN Count in ',col,': ',train_df_raw[col].isnull().sum())\n",
    "    print('Unique Entries of ',col,': ',len(train_df_raw[col].unique()),'\\n')\n",
    "    print(train_df_raw[col].unique())"
   ]
  },
  {
   "cell_type": "markdown",
   "metadata": {},
   "source": [
    "#### Data Cleaning\n",
    "###### From the above cell, we see that the NaN entries occur in columns: WorkClass (1384), Occupation (1390), NativeCountry (395). Given that there are only 1767 rows containing NaN entries, there must be significant overlap between missing WorkClass and Occupation entries. \n",
    "\n",
    "###### Given that there are entries missing several features, it makes sense to remove those entries outright, rather than trying to remove these features, or substitute random values for these entries.\n",
    "\n",
    "###### Modifying a dataset before performing a regression always runs the risk of introducing bias, or loosing insight into the data, but given that missing datapoints represent a small percent of total data, this effect should be minimal\n",
    "\n",
    "###### The missing values coming from columns WorkClass, Occupation, and NativeCountry are likely missing because theyh were not reported on some sort of census form. This may happen because the users did not want to disclose this data, or because it did not fall into a prescribed catwegory. The risk of removing these data points is that if there is some correlation between people who fail to fill them in, and some other parameter, this relationship will not be realized in the analysis.  \n",
    "\n",
    "\n",
    "#### Feature Encoding\n",
    "###### The feature encoding is performed with the scikit learn LabelEncoder, which detects the number of unique categorical within a feature and converts them to unique integer values. This method is used because regression techniques require numerical categories and because it allows the encoding and decoding of these features as needed."
   ]
  },
  {
   "cell_type": "code",
   "execution_count": 9,
   "metadata": {
    "collapsed": true
   },
   "outputs": [],
   "source": [
    "def clean (raw_df, encode=False):\n",
    "    '''\n",
    "    Function to clean a dataframe to prepare it for regression analysis\n",
    "    Inputs: \n",
    "        raw_df: raw dataframe with NaN values to be encoded\n",
    "        encode: Binary variable. If true, encode LebelEncoders on given dataframe. \n",
    "    Output:\n",
    "        clean_df: cleaned dataframe with NaN values removed.\n",
    "        encode_df: cleaned dataframe with all categorical variables encoded.\n",
    "    Notes:\n",
    "        All feature sets must be encoded using the same global encoding objects \n",
    "        Therefore, the encoding dictionary must be initialized on a train set and used for all following feature encodings\n",
    "    '''\n",
    "    \n",
    "    ### Step 1: Drop all NaN values\n",
    "    clean_df = raw_df.dropna()\n",
    "    \n",
    "    # Create copy of cleaned df for encoding\n",
    "    encode_df = raw_df.dropna()\n",
    "    \n",
    "    ### Step 2: Encode features for logistic regression    \n",
    "    # Detect rows of df with non-integer values\n",
    "    cat_df = clean_df.select_dtypes(include=[object])\n",
    "    \n",
    "    # Overwrite encoding dictionary only if specified by user\n",
    "    if encode:\n",
    "        # Train a dictionary of LabelEncoders on one dataframe.\n",
    "        global enc_dict\n",
    "        enc_dict = defaultdict(LabelEncoder)\n",
    "        encoders = cat_df.apply(lambda col: enc_dict[col.name].fit(col))\n",
    "    \n",
    "    # Encode df with encoding dictionary. Print error if encoders are uninitialized\n",
    "    try:\n",
    "        encoded_df = cat_df.apply(lambda col: enc_dict[col.name].transform(col))\n",
    "        for col in cat_df.columns:\n",
    "            encode_df.loc[:,col] = encoded_df.loc[:,col]\n",
    "    except:\n",
    "        print('Error: Encoders have not been initialized.\\nRerun this function with encode=True on training dataset in order to train categorical variable encoders.')    \n",
    "    \n",
    "    return clean_df, encode_df"
   ]
  },
  {
   "cell_type": "code",
   "execution_count": 10,
   "metadata": {
    "collapsed": false
   },
   "outputs": [
    {
     "name": "stderr",
     "output_type": "stream",
     "text": [
      "/Users/Jonathan/anaconda/lib/python3.6/site-packages/pandas/core/indexing.py:477: SettingWithCopyWarning: \n",
      "A value is trying to be set on a copy of a slice from a DataFrame.\n",
      "Try using .loc[row_indexer,col_indexer] = value instead\n",
      "\n",
      "See the caveats in the documentation: http://pandas.pydata.org/pandas-docs/stable/indexing.html#indexing-view-versus-copy\n",
      "  self.obj[item] = s\n"
     ]
    }
   ],
   "source": [
    "train_df_clean, train_df_enc = clean(train_df_raw,encode=True)"
   ]
  },
  {
   "cell_type": "code",
   "execution_count": 11,
   "metadata": {
    "collapsed": false
   },
   "outputs": [
    {
     "name": "stderr",
     "output_type": "stream",
     "text": [
      "/Users/Jonathan/anaconda/lib/python3.6/site-packages/pandas/core/indexing.py:477: SettingWithCopyWarning: \n",
      "A value is trying to be set on a copy of a slice from a DataFrame.\n",
      "Try using .loc[row_indexer,col_indexer] = value instead\n",
      "\n",
      "See the caveats in the documentation: http://pandas.pydata.org/pandas-docs/stable/indexing.html#indexing-view-versus-copy\n",
      "  self.obj[item] = s\n"
     ]
    }
   ],
   "source": [
    "test_df_clean, test_df_enc = clean(test_df_raw)"
   ]
  },
  {
   "cell_type": "code",
   "execution_count": 12,
   "metadata": {
    "collapsed": false,
    "scrolled": true
   },
   "outputs": [
    {
     "name": "stdout",
     "output_type": "stream",
     "text": [
      "Key:  WorkClass\n",
      "Classes:  ['Federal-gov' 'Local-gov' 'Private' 'Self-emp-inc' 'Self-emp-not-inc'\n",
      " 'State-gov' 'Without-pay'] \n",
      "\n",
      "Key:  Education\n",
      "Classes:  ['10th' '11th' '12th' '1st-4th' '5th-6th' '7th-8th' '9th' 'Assoc-acdm'\n",
      " 'Assoc-voc' 'Bachelors' 'Doctorate' 'HS-grad' 'Masters' 'Preschool'\n",
      " 'Prof-school' 'Some-college'] \n",
      "\n",
      "Key:  MaritalStatus\n",
      "Classes:  ['Divorced' 'Married-AF-spouse' 'Married-civ-spouse'\n",
      " 'Married-spouse-absent' 'Never-married' 'Separated' 'Widowed'] \n",
      "\n",
      "Key:  Occupation\n",
      "Classes:  ['Adm-clerical' 'Armed-Forces' 'Craft-repair' 'Exec-managerial'\n",
      " 'Farming-fishing' 'Handlers-cleaners' 'Machine-op-inspct' 'Other-service'\n",
      " 'Priv-house-serv' 'Prof-specialty' 'Protective-serv' 'Sales'\n",
      " 'Tech-support' 'Transport-moving'] \n",
      "\n",
      "Key:  Relationship\n",
      "Classes:  ['Husband' 'Not-in-family' 'Other-relative' 'Own-child' 'Unmarried' 'Wife'] \n",
      "\n",
      "Key:  Race\n",
      "Classes:  ['Amer-Indian-Eskimo' 'Asian-Pac-Islander' 'Black' 'Other' 'White'] \n",
      "\n",
      "Key:  Sex\n",
      "Classes:  ['Female' 'Male'] \n",
      "\n",
      "Key:  NativeCountry\n",
      "Classes:  ['Cambodia' 'Canada' 'China' 'Columbia' 'Cuba' 'Dominican-Republic'\n",
      " 'Ecuador' 'El-Salvador' 'England' 'France' 'Germany' 'Greece' 'Guatemala'\n",
      " 'Haiti' 'Holand-Netherlands' 'Honduras' 'Hong' 'Hungary' 'India' 'Iran'\n",
      " 'Ireland' 'Italy' 'Jamaica' 'Japan' 'Laos' 'Mexico' 'Nicaragua'\n",
      " 'Outlying-US(Guam-USVI-etc)' 'Peru' 'Philippines' 'Poland' 'Portugal'\n",
      " 'Puerto-Rico' 'Scotland' 'South' 'Taiwan' 'Thailand' 'Trinadad&Tobago'\n",
      " 'United-States' 'Vietnam' 'Yugoslavia'] \n",
      "\n",
      "Key:  IncomeBracket\n",
      "Classes:  ['50-100K' '<50K' '>100K'] \n",
      "\n"
     ]
    }
   ],
   "source": [
    "# Display encoding keys\n",
    "for key in enc_dict:\n",
    "    print('Key: ', key)\n",
    "    print('Classes: ',enc_dict[key].classes_,'\\n')\n",
    "# enc_dict['IncomeBracket'].classes_[0]"
   ]
  },
  {
   "cell_type": "markdown",
   "metadata": {},
   "source": [
    "# Exploratory Data Analysis"
   ]
  },
  {
   "cell_type": "markdown",
   "metadata": {},
   "source": [
    "### Graphical #1: Pie Chart of Income Distribution\n",
    "\n",
    "This graph shows the proportion of people in each income bracket. We would expect this distribution to remain relatively consistent in both the train and test sets. If there is a significant departure form this distribution, it likely means there is a bias in one dataset."
   ]
  },
  {
   "cell_type": "code",
   "execution_count": 13,
   "metadata": {
    "collapsed": false
   },
   "outputs": [
    {
     "name": "stdout",
     "output_type": "stream",
     "text": [
      "<50K_count:   16901 \n",
      "50-100K_count: 3837 \n",
      ">100K_count:   1916\n"
     ]
    }
   ],
   "source": [
    "low_count = len(train_df_clean[train_df_clean.IncomeBracket=='<50K'])\n",
    "mid_count = len(train_df_clean[train_df_clean.IncomeBracket=='50-100K'])\n",
    "high_count = len(train_df_clean[train_df_clean.IncomeBracket=='>100K'])\n",
    "print('<50K_count:  ',low_count,'\\n50-100K_count:',mid_count,'\\n>100K_count:  ',high_count)"
   ]
  },
  {
   "cell_type": "code",
   "execution_count": 14,
   "metadata": {
    "collapsed": false
   },
   "outputs": [
    {
     "data": {
      "image/png": "[encoded data removed]",
      "text/plain": [
       "<matplotlib.figure.Figure at 0x110c8d710>"
      ]
     },
     "metadata": {},
     "output_type": "display_data"
    }
   ],
   "source": [
    "import matplotlib.pyplot as pyplt\n",
    "labels = ['<50K', '50-100K', '>100K']\n",
    "sizes = [low_count, mid_count, high_count]\n",
    "colors = ['yellowgreen', 'gold', 'lightskyblue']\n",
    "patches, texts, junk = pyplt.pie(sizes, colors=colors, autopct='%1.1f%%', shadow=True, startangle=-90)\n",
    "# pyplt.figure(figsize=(10,8))\n",
    "pyplt.title('Distribution of Income')\n",
    "pyplt.legend(patches, labels, loc=\"best\")\n",
    "pyplt.axis('equal')\n",
    "pyplt.tight_layout()\n",
    "pyplt.show()"
   ]
  },
  {
   "cell_type": "markdown",
   "metadata": {},
   "source": [
    "### Graphical #2: Distribution of income by age\n",
    "\n",
    "This plot shows the weighting of people in a particular age/income bracket. This reveals an important insight into the dataset: young people tend to dominate the low income bracket, while the higher income braket is mostly made of people  in the 35-50 range."
   ]
  },
  {
   "cell_type": "code",
   "execution_count": 15,
   "metadata": {
    "collapsed": false
   },
   "outputs": [
    {
     "name": "stderr",
     "output_type": "stream",
     "text": [
      "/Users/Jonathan/anaconda/lib/python3.6/site-packages/ipykernel/__main__.py:5: SettingWithCopyWarning: \n",
      "A value is trying to be set on a copy of a slice from a DataFrame\n",
      "\n",
      "See the caveats in the documentation: http://pandas.pydata.org/pandas-docs/stable/indexing.html#indexing-view-versus-copy\n",
      "/Users/Jonathan/anaconda/lib/python3.6/site-packages/ipykernel/__main__.py:6: SettingWithCopyWarning: \n",
      "A value is trying to be set on a copy of a slice from a DataFrame\n",
      "\n",
      "See the caveats in the documentation: http://pandas.pydata.org/pandas-docs/stable/indexing.html#indexing-view-versus-copy\n",
      "/Users/Jonathan/anaconda/lib/python3.6/site-packages/ipykernel/__main__.py:7: SettingWithCopyWarning: \n",
      "A value is trying to be set on a copy of a slice from a DataFrame\n",
      "\n",
      "See the caveats in the documentation: http://pandas.pydata.org/pandas-docs/stable/indexing.html#indexing-view-versus-copy\n",
      "/Users/Jonathan/anaconda/lib/python3.6/site-packages/ipykernel/__main__.py:8: SettingWithCopyWarning: \n",
      "A value is trying to be set on a copy of a slice from a DataFrame.\n",
      "Try using .loc[row_indexer,col_indexer] = value instead\n",
      "\n",
      "See the caveats in the documentation: http://pandas.pydata.org/pandas-docs/stable/indexing.html#indexing-view-versus-copy\n"
     ]
    },
    {
     "data": {
      "text/plain": [
       "[<matplotlib.text.Text at 0x116b2df28>,\n",
       " <matplotlib.text.Text at 0x116b50b70>,\n",
       " <matplotlib.text.Text at 0x11338a5c0>]"
      ]
     },
     "execution_count": 15,
     "metadata": {},
     "output_type": "execute_result"
    },
    {
     "data": {
      "image/png": "[encoded data removed]",
      "text/plain": [
       "<matplotlib.figure.Figure at 0x112c87e48>"
      ]
     },
     "metadata": {},
     "output_type": "display_data"
    }
   ],
   "source": [
    "import seaborn as sns\n",
    "%matplotlib inline  \n",
    "\n",
    "age_income_df=train_df_clean[['Age','IncomeBracket']]\n",
    "age_income_df.replace(to_replace='<50K',value='1) <50K', inplace=True)\n",
    "age_income_df.replace(to_replace='<50-100K',value='2) 50-100K', inplace=True)\n",
    "age_income_df.replace(to_replace='>50K',value='3) >50K', inplace=True)\n",
    "age_income_df['count']=1\n",
    "\n",
    "pivot=age_income_df.pivot_table(index=['Age'],columns=['IncomeBracket'],aggfunc=np.sum)\n",
    "pivot.sortlevel(level=1, ascending=False, inplace=True)\n",
    "\n",
    "pyplt.figure(figsize=(16,8))\n",
    "plt = sns.heatmap(pivot)\n",
    "\n",
    "xticks=plt.yaxis.get_major_ticks()\n",
    "for i in range(len(xticks)):\n",
    "    if (3+i)%5!=1:\n",
    "        xticks[i].set_visible(False)\n",
    "\n",
    "plt.set_yticklabels(plt.get_yticklabels(), fontsize=15)\n",
    "plt.set_xticklabels(plt.get_xticklabels(), fontsize=15)"
   ]
  },
  {
   "cell_type": "markdown",
   "metadata": {},
   "source": [
    "### Graphical #3: Distribution of Income Bracket in Each Occupation\n",
    "\n",
    "This plot shows the distribution of ech income bracket within each occupation, as we see, all occupations have significant amounts of low income individuals, but the distributions vary widely accross occupations. Unsuprisingly, managerial and professional specialties have the largest portion of high income individuals"
   ]
  },
  {
   "cell_type": "code",
   "execution_count": 16,
   "metadata": {
    "collapsed": false
   },
   "outputs": [
    {
     "name": "stderr",
     "output_type": "stream",
     "text": [
      "/Users/Jonathan/anaconda/lib/python3.6/site-packages/ipykernel/__main__.py:2: SettingWithCopyWarning: \n",
      "A value is trying to be set on a copy of a slice from a DataFrame.\n",
      "Try using .loc[row_indexer,col_indexer] = value instead\n",
      "\n",
      "See the caveats in the documentation: http://pandas.pydata.org/pandas-docs/stable/indexing.html#indexing-view-versus-copy\n",
      "  from ipykernel import kernelapp as app\n"
     ]
    },
    {
     "data": {
      "image/png": "[encoded data removed]",
      "text/plain": [
       "<matplotlib.figure.Figure at 0x116b3a940>"
      ]
     },
     "metadata": {},
     "output_type": "display_data"
    }
   ],
   "source": [
    "sex_occupation_df=train_df_clean[['IncomeBracket','Occupation']]\n",
    "sex_occupation_df['count']=1\n",
    "pivot=sex_occupation_df.pivot_table(index=['Occupation','IncomeBracket'],aggfunc=np.sum)\n",
    "\n",
    "pyplt.figure(figsize=(16,8))\n",
    "plt = sns.barplot(data = pivot.reset_index(), x = 'Occupation', y = 'count', hue = 'IncomeBracket')\n",
    "\n",
    "plt.set_xticklabels(plt.get_xticklabels(), fontsize=15)\n",
    "for item in plt.get_xticklabels():\n",
    "    item.set_rotation(45)"
   ]
  },
  {
   "cell_type": "markdown",
   "metadata": {},
   "source": [
    "### Feature Importance\n",
    "\n",
    "Mutual information is used to visualize the importanc of features. MI is a statistical measure of how predictive a particular feature is of any outcome. It does not have any bearing on what the prediction will be ie. a high MI does not imply a high income, it predicts overall correlation. Instead, changes to features with high MI are most likely to have an impact on category, while changes to features low in MI are unlikely to change categorization. \n",
    "\n",
    "The MI analysis reveals that marital and relationship status are the hgihest predictors of income, while age, education, and occupation are also excellent predictors, as would be expected. Other demographic information such as race, sex, and native country, however, seem to have little bearing on an individuals income."
   ]
  },
  {
   "cell_type": "code",
   "execution_count": 17,
   "metadata": {
    "collapsed": false,
    "scrolled": true
   },
   "outputs": [
    {
     "name": "stdout",
     "output_type": "stream",
     "text": [
      "(22654, 14)\n"
     ]
    }
   ],
   "source": [
    "features = train_df_enc.iloc[:,0:-1]\n",
    "print(features.shape)\n",
    "# features.head()"
   ]
  },
  {
   "cell_type": "code",
   "execution_count": 18,
   "metadata": {
    "collapsed": false,
    "scrolled": true
   },
   "outputs": [
    {
     "name": "stdout",
     "output_type": "stream",
     "text": [
      "(22654,)\n"
     ]
    }
   ],
   "source": [
    "target = train_df_enc.loc[:,'IncomeBracket']\n",
    "print(target.shape)\n",
    "# target.head()"
   ]
  },
  {
   "cell_type": "code",
   "execution_count": 19,
   "metadata": {
    "collapsed": false
   },
   "outputs": [],
   "source": [
    "from sklearn.feature_selection import mutual_info_classif\n",
    "feat_imp=pd.DataFrame()\n",
    "feat_imp['Feature']=features.columns\n",
    "feat_imp['MI']=mutual_info_classif(features,target)"
   ]
  },
  {
   "cell_type": "code",
   "execution_count": 20,
   "metadata": {
    "collapsed": false
   },
   "outputs": [
    {
     "data": {
      "image/png": "[encoded data removed]",
      "text/plain": [
       "<matplotlib.figure.Figure at 0x11741cac8>"
      ]
     },
     "metadata": {},
     "output_type": "display_data"
    }
   ],
   "source": [
    "pyplt.figure(figsize=(16,8))\n",
    "plt = sns.barplot(data = feat_imp.reset_index(), x = 'Feature', y = 'MI',)\n",
    "\n",
    "plt.set_xticklabels(plt.get_xticklabels(), fontsize=15)\n",
    "for item in plt.get_xticklabels():\n",
    "    item.set_rotation(45)"
   ]
  },
  {
   "cell_type": "markdown",
   "metadata": {},
   "source": [
    "# Feature Selection\n",
    "\n",
    "The extra feature used will be the net capital gain/loss. This is defined as the (capital gain)-(capital loss) for each individual. This way, all the information contained in the original 2 features will be simplified into 1 feature. \n",
    "\n",
    "Feature engineering is a critical process in machine learning because it allows the critical information in datasets to be extracted, without using all possible features. This becomes especially useful on large datasets where it is impractical or cumbersome to use all data\n",
    "\n",
    "The features with low MI indentified in part 2 are dropped at this point in the analysis in favor of high MI features"
   ]
  },
  {
   "cell_type": "code",
   "execution_count": 21,
   "metadata": {
    "collapsed": false
   },
   "outputs": [],
   "source": [
    "def feat_select (df):\n",
    "    temp=df.copy()\n",
    "    temp['CapitalNet']=temp['CapitalGain']-temp['CapitalLoss']\n",
    "    temp=temp.drop('WorkClass', axis=1)\n",
    "    temp=temp.drop('FinalWeight', axis=1)\n",
    "    temp=temp.drop('Race', axis=1)\n",
    "    temp=temp.drop('Sex', axis=1)\n",
    "    temp=temp.drop('CapitalGain', axis=1)\n",
    "    temp=temp.drop('CapitalLoss', axis=1)\n",
    "    temp=temp.drop('NativeCountry', axis=1)\n",
    "    return temp\n",
    "# features_2 = feat_select(features)"
   ]
  },
  {
   "cell_type": "markdown",
   "metadata": {},
   "source": [
    "# Model Implementation\n",
    "\n",
    "\n",
    "### Chosen Models: \n",
    "Each of these models performs quite well, with little variation between folds. The largest deviation occurs in decision tree classifier. The K-NN classifier has the highest accuracy of any classifier\n",
    "\n",
    "###### Logistic Regression: Average Score: 0.773657833409 Standard Deviation: 0.000667039076978\n",
    "Calculates the probability that a given instance will belong to a particular class based on a probability threshhold\n",
    "###### K-Nearest Neighbors: Average Score 0.833249952075 Standard Deviation: 0.000778166747851\n",
    "Classifies based on the similarity of instances int he feature space\n",
    "###### Decision Tree: Average Score 0.801492009792 Standard Deviation: 0.0014150711945\n",
    "Generates a probabalistic tree shaped classifier, where each feature is a node, and each feature state is a branch\n",
    "###### Naive Bayes: Average Score 0.770337359719 Standard Deviation: 0.000806292508792\n",
    "Calculates the probability that a given instance will belong to a particular class based on a bayesian probability model\n"
   ]
  },
  {
   "cell_type": "code",
   "execution_count": 22,
   "metadata": {
    "collapsed": true
   },
   "outputs": [],
   "source": [
    "features_test = test_df_enc.iloc[:,0:-1]\n",
    "target_test = test_df_enc.loc[:,'IncomeBracket']"
   ]
  },
  {
   "cell_type": "code",
   "execution_count": 23,
   "metadata": {
    "collapsed": true
   },
   "outputs": [],
   "source": [
    "features_test = feat_select(features_test)\n",
    "features = feat_select(features)"
   ]
  },
  {
   "cell_type": "code",
   "execution_count": 24,
   "metadata": {
    "collapsed": false
   },
   "outputs": [
    {
     "name": "stderr",
     "output_type": "stream",
     "text": [
      "/Users/Jonathan/anaconda/lib/python3.6/site-packages/sklearn/cross_validation.py:44: DeprecationWarning: This module was deprecated in version 0.18 in favor of the model_selection module into which all the refactored classes and functions are moved. Also note that the interface of the new CV iterators are different from that of this module. This module will be removed in 0.20.\n",
      "  \"This module will be removed in 0.20.\", DeprecationWarning)\n"
     ]
    }
   ],
   "source": [
    "import sklearn.metrics as metrics \n",
    "\n",
    "from sklearn.cross_validation import StratifiedKFold\n",
    "cross_val = StratifiedKFold(target, n_folds=10)\n",
    "# cross_val"
   ]
  },
  {
   "cell_type": "markdown",
   "metadata": {},
   "source": [
    "### Model 1: Logistic Regression"
   ]
  },
  {
   "cell_type": "code",
   "execution_count": 25,
   "metadata": {
    "collapsed": false
   },
   "outputs": [
    {
     "data": {
      "text/plain": [
       "LogisticRegression(C=1.0, class_weight=None, dual=False, fit_intercept=True,\n",
       "          intercept_scaling=1, max_iter=100, multi_class='ovr', n_jobs=1,\n",
       "          penalty='l2', random_state=None, solver='liblinear', tol=0.0001,\n",
       "          verbose=0, warm_start=False)"
      ]
     },
     "execution_count": 25,
     "metadata": {},
     "output_type": "execute_result"
    }
   ],
   "source": [
    "# Initialize Classifier\n",
    "from sklearn.linear_model import LogisticRegression\n",
    "clf_1 = LogisticRegression()\n",
    "clf_1"
   ]
  },
  {
   "cell_type": "code",
   "execution_count": 26,
   "metadata": {
    "collapsed": false,
    "scrolled": false
   },
   "outputs": [
    {
     "name": "stdout",
     "output_type": "stream",
     "text": [
      "Fold scores: [0.77353215284249766, 0.77501471453796356, 0.77339611536197761, 0.77378850304100455, 0.77334706690209931, 0.77305277614282908, 0.7744371965275394, 0.77390877881314368, 0.77361451692005889, 0.7724865129965669]\n",
      "Average Score: 0.773657833409 Standard Deviation: 0.000667039076978\n"
     ]
    }
   ],
   "source": [
    "# Predict Classification based on 10-fold train-test split\n",
    "scores_1 = []\n",
    "for i, (train, test) in enumerate(cross_val):\n",
    "    clfModel = clf_1.fit(features.iloc[train,:], target.iloc[train])\n",
    "    target_pred = clfModel.predict(features.iloc[train,:])\n",
    "    scores_1.append(clf_1.score(features.iloc[train,:], target.iloc[train]))\n",
    "print('Fold scores:',scores_1)\n",
    "print('Average Score:',np.mean(scores_1), 'Standard Deviation:',np.std(scores_1))"
   ]
  },
  {
   "cell_type": "code",
   "execution_count": 27,
   "metadata": {
    "collapsed": false
   },
   "outputs": [
    {
     "data": {
      "text/plain": [
       "0.76465906075882195"
      ]
     },
     "execution_count": 27,
     "metadata": {},
     "output_type": "execute_result"
    }
   ],
   "source": [
    "# Predict classification on test data set\n",
    "clf_1.fit(X=features, y=target)\n",
    "\n",
    "test_pred = clf_1.predict(features_test)\n",
    "\n",
    "clf_1.score(features_test,target_test)"
   ]
  },
  {
   "cell_type": "code",
   "execution_count": 28,
   "metadata": {
    "collapsed": false
   },
   "outputs": [],
   "source": [
    "# pd.DataFrame(metrics.confusion_matrix(target_test, test_pred))#,columns=['Predicted Negative','Predicted Positive'], index=['True Negative','True Positive'])"
   ]
  },
  {
   "cell_type": "markdown",
   "metadata": {},
   "source": [
    "### Model 2: K-Nearest Neighbors Classifier"
   ]
  },
  {
   "cell_type": "code",
   "execution_count": 29,
   "metadata": {
    "collapsed": false
   },
   "outputs": [
    {
     "data": {
      "text/plain": [
       "KNeighborsClassifier(algorithm='auto', leaf_size=30, metric='minkowski',\n",
       "           metric_params=None, n_jobs=1, n_neighbors=5, p=2,\n",
       "           weights='uniform')"
      ]
     },
     "execution_count": 29,
     "metadata": {},
     "output_type": "execute_result"
    }
   ],
   "source": [
    "# Initialize Classifier\n",
    "from sklearn.neighbors import KNeighborsClassifier\n",
    "clf_2 = KNeighborsClassifier()\n",
    "clf_2"
   ]
  },
  {
   "cell_type": "code",
   "execution_count": 30,
   "metadata": {
    "collapsed": false
   },
   "outputs": [
    {
     "name": "stdout",
     "output_type": "stream",
     "text": [
      "Fold scores: [0.83420807377250206, 0.83191092799686095, 0.83343143025309008, 0.83343143025309008, 0.83392191485187361, 0.83215617029625266, 0.83290009318750302, 0.83320255026974011, 0.8329082883766552, 0.83442864149092688]\n",
      "Average Score 0.833249952075 Standard Deviation: 0.000778166747851\n"
     ]
    }
   ],
   "source": [
    "# Predict Classification based on 10-fold train-test split\n",
    "scores_2 = []\n",
    "for i, (train, test) in enumerate(cross_val):\n",
    "    clfModel = clf_2.fit(features.iloc[train,:], target.iloc[train])\n",
    "    target_pred = clfModel.predict(features.iloc[train,:])\n",
    "    scores_2.append(clf_2.score(features.iloc[train,:], target.iloc[train]))\n",
    "print('Fold scores:',scores_2)\n",
    "print('Average Score',np.mean(scores_2), 'Standard Deviation:',np.std(scores_2))"
   ]
  },
  {
   "cell_type": "code",
   "execution_count": 31,
   "metadata": {
    "collapsed": false
   },
   "outputs": [
    {
     "data": {
      "text/plain": [
       "0.76554346864774037"
      ]
     },
     "execution_count": 31,
     "metadata": {},
     "output_type": "execute_result"
    }
   ],
   "source": [
    "# Predict classification on test data set\n",
    "clf_2.fit(X=features, y=target)\n",
    "clf_2.score(features_test,target_test)"
   ]
  },
  {
   "cell_type": "markdown",
   "metadata": {},
   "source": [
    "### Model 3: Decision Tree Classifier"
   ]
  },
  {
   "cell_type": "code",
   "execution_count": 32,
   "metadata": {
    "collapsed": false
   },
   "outputs": [
    {
     "data": {
      "text/plain": [
       "DecisionTreeClassifier(class_weight=None, criterion='gini', max_depth=5,\n",
       "            max_features=None, max_leaf_nodes=None,\n",
       "            min_impurity_split=1e-07, min_samples_leaf=1,\n",
       "            min_samples_split=2, min_weight_fraction_leaf=0.0,\n",
       "            presort=False, random_state=None, splitter='best')"
      ]
     },
     "execution_count": 32,
     "metadata": {},
     "output_type": "execute_result"
    }
   ],
   "source": [
    "# Initialize Classifier\n",
    "from sklearn.tree import DecisionTreeClassifier\n",
    "clf_3 = DecisionTreeClassifier(max_depth=5)\n",
    "clf_3"
   ]
  },
  {
   "cell_type": "code",
   "execution_count": 33,
   "metadata": {
    "collapsed": false
   },
   "outputs": [
    {
     "name": "stdout",
     "output_type": "stream",
     "text": [
      "Fold scores: [0.80129494285574143, 0.80071610751422406, 0.80125564057288601, 0.80311948204826367, 0.80257994898960172, 0.79958799293702176, 0.80239344744715291, 0.80250122609122121, 0.79872486512996566, 0.8028445316331535]\n",
      "Average Score 0.801501818522 Standard Deviation: 0.00139537945165\n"
     ]
    }
   ],
   "source": [
    "# Predict Classification based on 10-fold train-test split\n",
    "scores_3 = []\n",
    "for i, (train, test) in enumerate(cross_val):\n",
    "    clfModel = clf_3.fit(features.iloc[train,:], target.iloc[train])\n",
    "    target_pred = clfModel.predict(features.iloc[train,:])\n",
    "    scores_3.append(clf_3.score(features.iloc[train,:], target.iloc[train]))\n",
    "print('Fold scores:',scores_3)\n",
    "print('Average Score',np.mean(scores_3), 'Standard Deviation:',np.std(scores_3))"
   ]
  },
  {
   "cell_type": "code",
   "execution_count": 34,
   "metadata": {
    "collapsed": false
   },
   "outputs": [
    {
     "data": {
      "text/plain": [
       "0.78977624480410369"
      ]
     },
     "execution_count": 34,
     "metadata": {},
     "output_type": "execute_result"
    }
   ],
   "source": [
    "# Predict classification on test data set\n",
    "clf_3.fit(X=features, y=target)\n",
    "clf_3.score(features_test,target_test)"
   ]
  },
  {
   "cell_type": "markdown",
   "metadata": {},
   "source": [
    "### Model 4: Naive Bayes Classifier"
   ]
  },
  {
   "cell_type": "code",
   "execution_count": 35,
   "metadata": {
    "collapsed": false
   },
   "outputs": [
    {
     "data": {
      "text/plain": [
       "BernoulliNB(alpha=1.0, binarize=0.0, class_prior=None, fit_prior=True)"
      ]
     },
     "execution_count": 35,
     "metadata": {},
     "output_type": "execute_result"
    }
   ],
   "source": [
    "# Initialize Classifier\n",
    "from sklearn.naive_bayes import BernoulliNB\n",
    "clf_4 = BernoulliNB()\n",
    "clf_4"
   ]
  },
  {
   "cell_type": "code",
   "execution_count": 36,
   "metadata": {
    "collapsed": false
   },
   "outputs": [
    {
     "name": "stdout",
     "output_type": "stream",
     "text": [
      "Fold scores: [0.75886594398391127, 0.75873062585834805, 0.7582401412595644, 0.75858348047871293, 0.7592211104571317, 0.75882872277810476, 0.75849722889793514, 0.75836194212849439, 0.75787150564001959, 0.75811672388425699]\n",
      "Average Score 0.758531742537 Standard Deviation: 0.000379546480345\n"
     ]
    }
   ],
   "source": [
    "# Predict Classification based on 10-fold train-test split\n",
    "scores_4 = []\n",
    "for i, (train, test) in enumerate(cross_val):\n",
    "    clfModel = clf_4.fit(features.iloc[train,:], target.iloc[train])\n",
    "    target_pred = clfModel.predict(features.iloc[train,:])\n",
    "    scores_4.append(clf_4.score(features.iloc[train,:], target.iloc[train]))\n",
    "print('Fold scores:',scores_4)\n",
    "print('Average Score',np.mean(scores_4), 'Standard Deviation:',np.std(scores_4))"
   ]
  },
  {
   "cell_type": "code",
   "execution_count": 37,
   "metadata": {
    "collapsed": false
   },
   "outputs": [
    {
     "data": {
      "text/plain": [
       "0.75669938975855666"
      ]
     },
     "execution_count": 37,
     "metadata": {},
     "output_type": "execute_result"
    }
   ],
   "source": [
    "# Predict classification on test data set\n",
    "clf_4.fit(X=features, y=target)\n",
    "clf_4.score(features_test,target_test)"
   ]
  },
  {
   "cell_type": "markdown",
   "metadata": {},
   "source": [
    "# Model Tuning\n",
    "\n",
    "In order to compare performance accross all classifiers and all parameters, the accuracy of the classification will be measured and used for comparison.\n",
    "\n",
    "In order to save time, the number of folds for cross validation is decreased to 5"
   ]
  },
  {
   "cell_type": "code",
   "execution_count": 38,
   "metadata": {
    "collapsed": true
   },
   "outputs": [],
   "source": [
    "from sklearn.model_selection import GridSearchCV"
   ]
  },
  {
   "cell_type": "markdown",
   "metadata": {
    "collapsed": true
   },
   "source": [
    "### Model 1: Logistic Regression\n",
    "For logistic regression, the hyperparameter C is optimized. "
   ]
  },
  {
   "cell_type": "code",
   "execution_count": 39,
   "metadata": {
    "collapsed": false
   },
   "outputs": [
    {
     "name": "stdout",
     "output_type": "stream",
     "text": [
      "Highest Accuracy:  0.77438862894\n",
      "Best Estimator:  3.72759372031\n"
     ]
    }
   ],
   "source": [
    "params = np.logspace(-2, 2, num=15)\n",
    "param_grid = {'C': params }\n",
    "clf_1_grid = GridSearchCV(LogisticRegression(), param_grid, cv=5, scoring='accuracy')\n",
    "clf_1_grid.fit(features, target)\n",
    "print('Highest Accuracy: ',clf_1_grid.best_score_)\n",
    "print('Best Estimator: ',clf_1_grid.best_estimator_.C)"
   ]
  },
  {
   "cell_type": "markdown",
   "metadata": {},
   "source": [
    "### Model 2: K-Nearest Neighbors Classifier\n",
    "For KNN classification, the number of neighbors is optimized"
   ]
  },
  {
   "cell_type": "code",
   "execution_count": 40,
   "metadata": {
    "collapsed": false,
    "scrolled": true
   },
   "outputs": [
    {
     "name": "stdout",
     "output_type": "stream",
     "text": [
      "Highest Accuracy:  0.793678820517\n",
      "Best Estimator:  20\n"
     ]
    }
   ],
   "source": [
    "params = np.arange(1,25)\n",
    "param_grid = {'n_neighbors': params }\n",
    "clf_2_grid = GridSearchCV(KNeighborsClassifier(), param_grid, cv=5, scoring='accuracy')\n",
    "clf_2_grid.fit(features, target)\n",
    "print('Highest Accuracy: ',clf_2_grid.best_score_)\n",
    "print('Best Estimator: ',clf_2_grid.best_estimator_.n_neighbors)"
   ]
  },
  {
   "cell_type": "markdown",
   "metadata": {},
   "source": [
    "### Model 3: Decision Tree Classifier\n",
    "The decision tree classifier does not have a hyperparameter to be tuned"
   ]
  },
  {
   "cell_type": "markdown",
   "metadata": {},
   "source": [
    "### Model 4: Naive Bayes Classifier\n",
    "For NB classification, the smoothing parameter alpha is optimized"
   ]
  },
  {
   "cell_type": "code",
   "execution_count": 41,
   "metadata": {
    "collapsed": false,
    "scrolled": true
   },
   "outputs": [
    {
     "name": "stdout",
     "output_type": "stream",
     "text": [
      "Highest Accuracy:  0.758541537918\n",
      "Best Estimator:  1\n"
     ]
    }
   ],
   "source": [
    "param_grid = {'alpha': params }\n",
    "clf_4_grid = GridSearchCV(BernoulliNB(), param_grid, cv=5, scoring='accuracy')\n",
    "clf_4_grid.fit(features, target)\n",
    "print('Highest Accuracy: ',clf_4_grid.best_score_)\n",
    "print('Best Estimator: ',clf_4_grid.best_estimator_.alpha)"
   ]
  },
  {
   "cell_type": "markdown",
   "metadata": {},
   "source": [
    "# Testing\n",
    "\n",
    "The above tuning revealed that KNN classification with n=20 produces the highest accuracy. This model is implemented on the test set below.\n",
    "\n",
    "When this model was run on the train set, it acheived an accucacy of 79.36% but when it was run on the test set, it achieved 78.40%. This makes sense, given that the model will slightly overfit to the train data. Note that before tuning the model, KNN had an accuracy 76.55% on the test set, so this tuning represents a significant increase in predition accuracy."
   ]
  },
  {
   "cell_type": "code",
   "execution_count": 42,
   "metadata": {
    "collapsed": true
   },
   "outputs": [],
   "source": [
    "clf_final = KNeighborsClassifier(n_neighbors=20)"
   ]
  },
  {
   "cell_type": "code",
   "execution_count": 43,
   "metadata": {
    "collapsed": false
   },
   "outputs": [
    {
     "data": {
      "text/plain": [
       "0.78402759352613427"
      ]
     },
     "execution_count": 43,
     "metadata": {},
     "output_type": "execute_result"
    }
   ],
   "source": [
    "clf_final.fit(X=features, y=target)\n",
    "clf_final.score(features_test,target_test)"
   ]
  }
 ],
 "metadata": {
  "kernelspec": {
   "display_name": "Python 3",
   "language": "python",
   "name": "python3"
  },
  "language_info": {
   "codemirror_mode": {
    "name": "ipython",
    "version": 3
   },
   "file_extension": ".py",
   "mimetype": "text/x-python",
   "name": "python",
   "nbconvert_exporter": "python",
   "pygments_lexer": "ipython3",
   "version": "3.6.0"
  }
 },
 "nbformat": 4,
 "nbformat_minor": 2
}
